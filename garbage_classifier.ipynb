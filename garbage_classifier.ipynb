{
  "nbformat": 4,
  "nbformat_minor": 0,
  "metadata": {
    "colab": {
      "provenance": [],
      "authorship_tag": "ABX9TyMYOAah2MIFmxkMev1uhJe9",
      "include_colab_link": true
    },
    "kernelspec": {
      "name": "python3",
      "display_name": "Python 3"
    },
    "language_info": {
      "name": "python"
    }
  },
  "cells": [
    {
      "cell_type": "markdown",
      "metadata": {
        "id": "view-in-github",
        "colab_type": "text"
      },
      "source": [
        "<a href=\"https://colab.research.google.com/github/jin-raii/Garbage-Classifier-/blob/master/garbage_classifier.ipynb\" target=\"_parent\"><img src=\"https://colab.research.google.com/assets/colab-badge.svg\" alt=\"Open In Colab\"/></a>"
      ]
    },
    {
      "cell_type": "markdown",
      "source": [
        "### Download Dataset from Kaggle\n",
        "\n",
        "\n"
      ],
      "metadata": {
        "id": "GPxgUBuTmNHo"
      }
    },
    {
      "cell_type": "code",
      "execution_count": 1,
      "metadata": {
        "id": "6X2l51qCk47T"
      },
      "outputs": [],
      "source": [
        "import kagglehub"
      ]
    },
    {
      "cell_type": "code",
      "source": [
        "path = kagglehub.dataset_download(\"mostafaabla/garbage-classification\")\n",
        "path"
      ],
      "metadata": {
        "colab": {
          "base_uri": "https://localhost:8080/",
          "height": 88
        },
        "id": "txSLIMY0lBbM",
        "outputId": "4a989b38-ee45-48ef-c7aa-98557835a4e5"
      },
      "execution_count": 2,
      "outputs": [
        {
          "output_type": "stream",
          "name": "stdout",
          "text": [
            "Downloading from https://www.kaggle.com/api/v1/datasets/download/mostafaabla/garbage-classification?dataset_version_number=1...\n"
          ]
        },
        {
          "output_type": "stream",
          "name": "stderr",
          "text": [
            "100%|██████████| 239M/239M [00:01<00:00, 179MB/s]"
          ]
        },
        {
          "output_type": "stream",
          "name": "stdout",
          "text": [
            "Extracting files...\n"
          ]
        },
        {
          "output_type": "stream",
          "name": "stderr",
          "text": [
            "\n"
          ]
        },
        {
          "output_type": "execute_result",
          "data": {
            "text/plain": [
              "'/root/.cache/kagglehub/datasets/mostafaabla/garbage-classification/versions/1'"
            ],
            "application/vnd.google.colaboratory.intrinsic+json": {
              "type": "string"
            }
          },
          "metadata": {},
          "execution_count": 2
        }
      ]
    },
    {
      "cell_type": "markdown",
      "source": [
        "### Move downloaded dataset to Google Drive"
      ],
      "metadata": {
        "id": "2h320cLZmY9B"
      }
    },
    {
      "cell_type": "code",
      "source": [
        "import shutil"
      ],
      "metadata": {
        "id": "Fg0kp6zYlCjF"
      },
      "execution_count": 3,
      "outputs": []
    },
    {
      "cell_type": "code",
      "source": [
        "from google.colab import drive\n",
        "drive.mount('/content/drive')"
      ],
      "metadata": {
        "colab": {
          "base_uri": "https://localhost:8080/"
        },
        "id": "qKYEuFKglJKP",
        "outputId": "b9418e2c-1b8d-4003-b676-91b709c261bb"
      },
      "execution_count": 4,
      "outputs": [
        {
          "output_type": "stream",
          "name": "stdout",
          "text": [
            "Mounted at /content/drive\n"
          ]
        }
      ]
    },
    {
      "cell_type": "code",
      "source": [
        "shutil.move(path, '/content/drive/MyDrive/garbage-classification')"
      ],
      "metadata": {
        "colab": {
          "base_uri": "https://localhost:8080/",
          "height": 36
        },
        "id": "5jLObA6RlN_T",
        "outputId": "00f7ec87-9ea7-42ab-9abf-e8282ad8aa04"
      },
      "execution_count": 5,
      "outputs": [
        {
          "output_type": "execute_result",
          "data": {
            "text/plain": [
              "'/content/drive/MyDrive/garbage-classification'"
            ],
            "application/vnd.google.colaboratory.intrinsic+json": {
              "type": "string"
            }
          },
          "metadata": {},
          "execution_count": 5
        }
      ]
    },
    {
      "cell_type": "markdown",
      "source": [
        "### Load Garbage Dataset"
      ],
      "metadata": {
        "id": "ptTQtPkomfzT"
      }
    },
    {
      "cell_type": "code",
      "source": [
        "import os"
      ],
      "metadata": {
        "id": "tYvBjzKTm2cc"
      },
      "execution_count": 8,
      "outputs": []
    },
    {
      "cell_type": "code",
      "source": [
        "dataset_path ='/content/drive/MyDrive/garbage-classification/garbage_classification'\n",
        "dataset_folder = os.listdir(dataset_path)\n",
        "\n",
        "label = []\n",
        "n_samples = []\n",
        "total_data = []\n",
        "for folder in dataset_folder:\n",
        "  print(f'{folder} : {len(os.listdir(os.path.join(dataset_path, folder)))}')\n",
        "  label.append(folder)\n",
        "  n_samples.append(len(os.listdir(os.path.join(dataset_path, folder))))\n",
        "  total_data.append(len(os.listdir(os.path.join(dataset_path, folder))))\n",
        "  # print(f'sample image : {os.listdir(os.path.join(dataset_path, folder))[0]}')\n",
        "\n",
        "print('total dataset count: ', sum(total_data))"
      ],
      "metadata": {
        "colab": {
          "base_uri": "https://localhost:8080/"
        },
        "id": "A3Ac3lOdlbko",
        "outputId": "19b79500-c112-4cea-f038-8cddd48443c7"
      },
      "execution_count": 27,
      "outputs": [
        {
          "output_type": "stream",
          "name": "stdout",
          "text": [
            "clothes : 5325\n",
            "plastic : 865\n",
            "shoes : 1977\n",
            "trash : 697\n",
            "brown-glass : 607\n",
            "paper : 1050\n",
            "metal : 769\n",
            "white-glass : 775\n",
            "battery : 945\n",
            "biological : 985\n",
            "green-glass : 629\n",
            "cardboard : 891\n",
            "total dataset count:  15515\n"
          ]
        }
      ]
    },
    {
      "cell_type": "markdown",
      "source": [
        "### Visualize class distribution"
      ],
      "metadata": {
        "id": "8sQ16bH0x-M9"
      }
    },
    {
      "cell_type": "code",
      "source": [
        "import matplotlib.pyplot as plt\n"
      ],
      "metadata": {
        "id": "WIbF4qJZx8qn"
      },
      "execution_count": 22,
      "outputs": []
    },
    {
      "cell_type": "code",
      "source": [
        "plt.bar(label, n_samples)\n",
        "plt.xticks(rotation=90)\n",
        "plt.xlabel('Folder name')\n",
        "plt.ylabel('Number of Images')\n",
        "plt.show()\n"
      ],
      "metadata": {
        "colab": {
          "base_uri": "https://localhost:8080/",
          "height": 519
        },
        "id": "qzlx5vzZyIQk",
        "outputId": "bd329bbe-00a2-4c33-9a8c-7ee339b25c6b"
      },
      "execution_count": 31,
      "outputs": [
        {
          "output_type": "display_data",
          "data": {
            "text/plain": [
              "<Figure size 640x480 with 1 Axes>"
            ],
            "image/png": "[encoded data removed]"
          },
          "metadata": {}
        }
      ]
    },
    {
      "cell_type": "markdown",
      "source": [
        "### Image Augmentation"
      ],
      "metadata": {
        "id": "1na75S1f2HTR"
      }
    },
    {
      "cell_type": "code",
      "source": [
        "from tensorflow.keras.preprocessing.image import ImageDataGenerator"
      ],
      "metadata": {
        "id": "I2VbhsM02FdH"
      },
      "execution_count": 32,
      "outputs": []
    },
    {
      "cell_type": "code",
      "source": [
        "datagen = ImageDataGenerator(\n",
        "    rotation_range=20,\n",
        "    width_shift_range=0.2,\n",
        "    height_shift_range=0.2,\n",
        "    shear_range=0.2,\n",
        "    zoom_range=0.2,\n",
        "    horizontal_flip=True,\n",
        "    fill_mode='nearest',\n",
        "    validation_split=0.2\n",
        "\n",
        ")\n",
        "\n",
        "train_generator = datagen.flow_from_directory(\n",
        "    dataset_path,\n",
        "    target_size=(224, 224),\n",
        "    batch_size=32,\n",
        "    class_mode='categorical',\n",
        "    subset='training'\n",
        ")\n",
        "\n",
        "val_generator = datagen.flow_from_directory(\n",
        "    dataset_path,\n",
        "    target_size=(224, 224),\n",
        "    batch_size=32,\n",
        "    class_mode='categorical',\n",
        "    subset='validation'\n",
        ")"
      ],
      "metadata": {
        "colab": {
          "base_uri": "https://localhost:8080/"
        },
        "id": "NHpGJfsB2TAB",
        "outputId": "75f4fd1a-fdcd-415e-af2d-c09101c9bbbc"
      },
      "execution_count": 36,
      "outputs": [
        {
          "output_type": "stream",
          "name": "stdout",
          "text": [
            "Found 12415 images belonging to 12 classes.\n",
            "Found 3100 images belonging to 12 classes.\n"
          ]
        }
      ]
    },
    {
      "cell_type": "code",
      "source": [
        "train_generator.class_indices"
      ],
      "metadata": {
        "colab": {
          "base_uri": "https://localhost:8080/"
        },
        "id": "S0ZFHhQf2S1t",
        "outputId": "b1988a25-3497-4380-b960-4d9ba7de07d7"
      },
      "execution_count": 35,
      "outputs": [
        {
          "output_type": "execute_result",
          "data": {
            "text/plain": [
              "{'battery': 0,\n",
              " 'biological': 1,\n",
              " 'brown-glass': 2,\n",
              " 'cardboard': 3,\n",
              " 'clothes': 4,\n",
              " 'green-glass': 5,\n",
              " 'metal': 6,\n",
              " 'paper': 7,\n",
              " 'plastic': 8,\n",
              " 'shoes': 9,\n",
              " 'trash': 10,\n",
              " 'white-glass': 11}"
            ]
          },
          "metadata": {},
          "execution_count": 35
        }
      ]
    },
    {
      "cell_type": "code",
      "source": [
        "value_mapping = {\n",
        "    'clothes': 'recyclable',\n",
        "    'plastic': 'non-recyclable',\n",
        "    'shoes': 'recyclable',\n",
        "    'trash': 'non-recyclable',\n",
        "    'brown-glass': 'non-recyclable',\n",
        "    'paper': 'non-recyclable',\n",
        "    'metal': 'non-recyclable',\n",
        "    'white-glass': 'non-recyclable',\n",
        "    'battery': 'non-recyclable',\n",
        "    'biological': 'non-recyclable',\n",
        "    'green-glass': 'non-recyclable',\n",
        "    'cardboard': 'non-recyclable'\n",
        "}\n",
        "value_mapping.values()"
      ],
      "metadata": {
        "colab": {
          "base_uri": "https://localhost:8080/"
        },
        "id": "ZcUj2rKpmrdp",
        "outputId": "f7a28f8b-a5c6-4dbc-a0cc-5d090f57edcc"
      },
      "execution_count": 21,
      "outputs": [
        {
          "output_type": "execute_result",
          "data": {
            "text/plain": [
              "dict_values(['recyclable', 'non-recyclable', 'recyclable', 'non-recyclable', 'non-recyclable', 'non-recyclable', 'non-recyclable', 'non-recyclable', 'non-recyclable', 'non-recyclable', 'non-recyclable', 'non-recyclable'])"
            ]
          },
          "metadata": {},
          "execution_count": 21
        }
      ]
    },
    {
      "cell_type": "code",
      "source": [],
      "metadata": {
        "id": "HWYIDnqBtA9r"
      },
      "execution_count": null,
      "outputs": []
    }
  ]
}